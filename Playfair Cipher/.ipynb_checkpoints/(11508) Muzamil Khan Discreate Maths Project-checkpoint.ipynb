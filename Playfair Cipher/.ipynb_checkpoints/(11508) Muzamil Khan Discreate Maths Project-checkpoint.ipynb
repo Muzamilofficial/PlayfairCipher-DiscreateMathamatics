{
 "cells": [
  {
   "cell_type": "code",
   "execution_count": null,
   "metadata": {},
   "outputs": [],
   "source": [
    "import math\n",
    "\n",
    "def encrypt(mesag,ekey):\n",
    "    word = mesag\n",
    "    list_of_letters = list(word)\n",
    "    numbers = []\n",
    "    for letter in list_of_letters:\n",
    "        number = ord(letter) - 97\n",
    "        if number == -65:\n",
    "            numbers.append(number)\n",
    "        else:\n",
    "            f=math.ceil(math.fmod(number+(ekey),26))\n",
    "            numbers.append(f)\n",
    "    lett = []\n",
    "    for numb in numbers:\n",
    "        lette= chr(numb+97)\n",
    "        lett.append(lette)\n",
    "    strmessage=\"\".join(lett)\n",
    "    print(\"YOUR Encrypt MESSAGE IS :\" ,strmessage)\n",
    "\n",
    "def decrypt(meesg,dkey):\n",
    "    dword = meesg\n",
    "    d_list_of_letters = list(dword)\n",
    "    dnumbers = []\n",
    "    for dletter in d_list_of_letters:\n",
    "        dnumber = ord(dletter) - 97\n",
    "        if dnumber == -65: \n",
    "            dnumbers.append(dnumber)\n",
    "        elif dnumber > -(dkey):\n",
    "            df=math.ceil(math.fmod((dnumber+26)-(dkey),26))\n",
    "            dnumbers.append(df)\n",
    "        else:\n",
    "            df=math.ceil(math.fmod(dnumber-(dkey),26))\n",
    "            dnumbers.append(df)\n",
    "    dlett = []\n",
    "    for dnumb in dnumbers:\n",
    "        dlette= chr(dnumb+97) \n",
    "        dlett.append(dlette)\n",
    "    dstrmessage=\"\".join(dlett)\n",
    "    print(\"YOUR Decrypt MESSAGE IS :\",dstrmessage)\n",
    "\n",
    "while True:\n",
    "    choies=int(input(\"\\n\\nPLESE SELECT YOUR CHOISE\\n\\nPRESS 1 FOR Encryption\\nPRESS 2 FOR Decryption\\nPRESS 3 FOR EXIT\\nyour choise :\"))\n",
    "    if choies == 1:\n",
    "        enke=int(input(\"ENTER KEY FOR Encryption:\"))\n",
    "        enmessage=input(\"PLEASE ENTER YOUR MESSAGE IN SMALL LETTERS: \")\n",
    "        encrypt(enmessage,enke)\n",
    "    elif choies ==2:\n",
    "        dyke=int(input(\"ENTER KEY FOR Dycryption:\"))\n",
    "        dymessage=input(\"PLEASE ENTER YOUR MESSAGE IN SMALL LETTERS:\")\n",
    "        decrypt(dymessage,dyke) \n",
    "    elif choies==3:\n",
    "        print(\"\\n ********************************************* THANKS FOR USING OUR PROGRAM *********************************************\")\n",
    "        break\n",
    "    else:\n",
    "        print(\"sorry you select invalid choise......\")"
   ]
  },
  {
   "cell_type": "code",
   "execution_count": null,
   "metadata": {},
   "outputs": [],
   "source": []
  }
 ],
 "metadata": {
  "kernelspec": {
   "display_name": "Python 3",
   "language": "python",
   "name": "python3"
  },
  "language_info": {
   "codemirror_mode": {
    "name": "ipython",
    "version": 3
   },
   "file_extension": ".py",
   "mimetype": "text/x-python",
   "name": "python",
   "nbconvert_exporter": "python",
   "pygments_lexer": "ipython3",
   "version": "3.8.5"
  }
 },
 "nbformat": 4,
 "nbformat_minor": 4
}
